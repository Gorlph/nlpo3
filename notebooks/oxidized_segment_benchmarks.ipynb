{
 "cells": [
  {
   "cell_type": "markdown",
   "metadata": {
    "id": "6PCaAU1y66FE"
   },
   "source": [
    "# Benchmark `oxidized_thainlp.segment`"
   ]
  },
  {
   "cell_type": "markdown",
   "metadata": {},
   "source": [
    "Benchmarks Rust `oxidized_thainlp.segment` (unsafe) against Python `newmm.segment` (unsafe) using the same dictionary.\n",
    "\n",
    "https://github.com/PyThaiNLP/oxidized-thainlp/"
   ]
  },
  {
   "cell_type": "code",
   "execution_count": 1,
   "metadata": {
    "id": "iAlScT9d66FX",
    "outputId": "fe7a569c-f384-4e95-cbc3-3d412a99fc74"
   },
   "outputs": [],
   "source": [
    "import time\n",
    "\n",
    "import matplotlib.pyplot as plt\n",
    "import numpy as np\n",
    "from tqdm.auto import tqdm\n",
    "\n",
    "\n",
    "def time_func(func, arg):\n",
    "    start_time = time.time()\n",
    "    func(arg)\n",
    "    return time.time() - start_time"
   ]
  },
  {
   "cell_type": "markdown",
   "metadata": {
    "id": "Ssp84MKA66Fb"
   },
   "source": [
    "## Load Custom Dictionary to the Tokenizers\n",
    "\n",
    "Both `oxidized_newmm()` and `py_newmm()` will use the same word list (`words_th.txt`)"
   ]
  },
  {
   "cell_type": "code",
   "execution_count": 2,
   "metadata": {
    "id": "XHh2LIdG66Fd",
    "outputId": "f1f8c12d-fd61-40f2-d31f-98c99cd120ae"
   },
   "outputs": [],
   "source": [
    "DICT_FILE = \"../words_th.txt\""
   ]
  },
  {
   "cell_type": "code",
   "execution_count": 3,
   "metadata": {},
   "outputs": [],
   "source": [
    "from pythainlp.tokenize.newmm import segment as py_segment\n",
    "from pythainlp.util import dict_trie\n",
    "\n",
    "trie = dict_trie(dict_source=DICT_FILE)\n",
    "\n",
    "def py_newmm(txt, safe_mode=False):\n",
    "    return py_segment(txt, safe_mode=safe_mode, custom_dict=trie)"
   ]
  },
  {
   "cell_type": "code",
   "execution_count": 4,
   "metadata": {},
   "outputs": [
    {
     "name": "stdout",
     "output_type": "stream",
     "text": [
      "Successful: dictionary name test_dict from file ../words_th.txt has been successfully loaded\n"
     ]
    }
   ],
   "source": [
    "from oxidized_thainlp import load_dict\n",
    "from oxidized_thainlp import segment as oxidized_segment\n",
    "\n",
    "load_dict(DICT_FILE, \"test_dict\")  # create \"test_dict\" dictionary\n",
    "\n",
    "def oxidized_newmm(txt, safe=False, parallel=False):\n",
    "    return oxidized_segment(txt, dict_name=\"test_dict\", safe=safe, parallel=parallel)"
   ]
  },
  {
   "cell_type": "markdown",
   "metadata": {},
   "source": [
    "## Load Test data"
   ]
  },
  {
   "cell_type": "code",
   "execution_count": 5,
   "metadata": {},
   "outputs": [
    {
     "name": "stderr",
     "output_type": "stream",
     "text": [
      "Reusing dataset wisesight_sentiment (/Users/test/.cache/huggingface/datasets/wisesight_sentiment/wisesight_sentiment/1.0.0/fc2b1bdfe79571b2e281e4afdb5aac069cf9270bf0f85694239be672a4191969)\n"
     ]
    },
    {
     "data": {
      "text/plain": [
       "DatasetDict({\n",
       "    train: Dataset({\n",
       "        features: ['category', 'texts'],\n",
       "        num_rows: 21628\n",
       "    })\n",
       "    validation: Dataset({\n",
       "        features: ['category', 'texts'],\n",
       "        num_rows: 2404\n",
       "    })\n",
       "    test: Dataset({\n",
       "        features: ['category', 'texts'],\n",
       "        num_rows: 2671\n",
       "    })\n",
       "})"
      ]
     },
     "execution_count": 5,
     "metadata": {},
     "output_type": "execute_result"
    }
   ],
   "source": [
    "from datasets import load_dataset\n",
    "\n",
    "datasets = load_dataset('wisesight_sentiment')\n",
    "datasets"
   ]
  },
  {
   "cell_type": "code",
   "execution_count": 6,
   "metadata": {
    "id": "GCtUUACp66Fc",
    "outputId": "fe1c7236-28b3-4ee4-a0e4-81312e7762fb"
   },
   "outputs": [
    {
     "data": {
      "text/plain": [
       "'ไปจองมาแล้วนาจา Mitsubishi Attrage ได้หลังสงกรานต์เลย รอขับอยู่นาจา กระทัดรัด เหมาะกับสาวๆขับรถคนเดียวแบบเรา ราคาสบายกระเป๋า ประหยัดน้ำมัน วิ่งไกลแค่ไหนหายห่วงค่ะ'"
      ]
     },
     "execution_count": 6,
     "metadata": {},
     "output_type": "execute_result"
    }
   ],
   "source": [
    "txt = datasets['train']['texts'][0]\n",
    "txt"
   ]
  },
  {
   "cell_type": "code",
   "execution_count": 7,
   "metadata": {},
   "outputs": [
    {
     "data": {
      "text/plain": [
       "['ไป', 'จอง', 'มา', 'แล้', 'วนา', 'จา', ' ', 'Mitsubishi', ' ', 'Attrage']"
      ]
     },
     "execution_count": 7,
     "metadata": {},
     "output_type": "execute_result"
    }
   ],
   "source": [
    "py_newmm(txt)[:10]"
   ]
  },
  {
   "cell_type": "code",
   "execution_count": 8,
   "metadata": {},
   "outputs": [
    {
     "data": {
      "text/plain": [
       "['ไป', 'จอง', 'มา', 'แล้', 'วนา', 'จา', ' ', 'Mitsubishi', ' ', 'Attrage']"
      ]
     },
     "execution_count": 8,
     "metadata": {},
     "output_type": "execute_result"
    }
   ],
   "source": [
    "oxidized_newmm(txt)[:10]"
   ]
  },
  {
   "cell_type": "markdown",
   "metadata": {
    "id": "Qyrh-uny66Fh"
   },
   "source": [
    "## One Example"
   ]
  },
  {
   "cell_type": "markdown",
   "metadata": {
    "id": "9YqrA2Pb66Fj"
   },
   "source": [
    "### Average Run Time for One Example"
   ]
  },
  {
   "cell_type": "code",
   "execution_count": 9,
   "metadata": {
    "id": "Iz58c6Ff66Fj",
    "outputId": "0d45dec2-bece-494e-8725-31ffdc97e1de"
   },
   "outputs": [
    {
     "name": "stdout",
     "output_type": "stream",
     "text": [
      "306 µs ± 7.78 µs per loop (mean ± std. dev. of 7 runs, 1000 loops each)\n"
     ]
    }
   ],
   "source": [
    "%timeit py_newmm(txt)"
   ]
  },
  {
   "cell_type": "code",
   "execution_count": 10,
   "metadata": {
    "id": "8jvijfPJ66Fl",
    "outputId": "64a89f5b-468e-4af5-da35-6c938019e021"
   },
   "outputs": [
    {
     "name": "stdout",
     "output_type": "stream",
     "text": [
      "172 µs ± 2.58 µs per loop (mean ± std. dev. of 7 runs, 10000 loops each)\n"
     ]
    }
   ],
   "source": [
    "%timeit oxidized_newmm(txt)"
   ]
  },
  {
   "cell_type": "code",
   "execution_count": 11,
   "metadata": {
    "id": "lAdLgqdu66Fm",
    "outputId": "42e39b71-9331-4311-a401-61fa68c21fde"
   },
   "outputs": [
    {
     "name": "stdout",
     "output_type": "stream",
     "text": [
      "246 µs ± 4.55 µs per loop (mean ± std. dev. of 7 runs, 1000 loops each)\n"
     ]
    }
   ],
   "source": [
    "%timeit oxidized_newmm(txt, parallel=True)"
   ]
  },
  {
   "cell_type": "code",
   "execution_count": 12,
   "metadata": {},
   "outputs": [
    {
     "name": "stdout",
     "output_type": "stream",
     "text": [
      "306 µs ± 3.41 µs per loop (mean ± std. dev. of 7 runs, 1000 loops each)\n"
     ]
    }
   ],
   "source": [
    "%timeit py_newmm(txt, safe_mode=True)"
   ]
  },
  {
   "cell_type": "code",
   "execution_count": 13,
   "metadata": {},
   "outputs": [
    {
     "name": "stdout",
     "output_type": "stream",
     "text": [
      "178 µs ± 3.65 µs per loop (mean ± std. dev. of 7 runs, 10000 loops each)\n"
     ]
    }
   ],
   "source": [
    "%timeit oxidized_newmm(txt, safe=True)"
   ]
  },
  {
   "cell_type": "markdown",
   "metadata": {
    "id": "L0lWERZk66Fm"
   },
   "source": [
    "## All Examples"
   ]
  },
  {
   "cell_type": "markdown",
   "metadata": {
    "id": "GXmhzISZ66Fn"
   },
   "source": [
    "### Check If Results Match for All Examples"
   ]
  },
  {
   "cell_type": "code",
   "execution_count": 14,
   "metadata": {
    "id": "ZY9Mosag66Fn",
    "outputId": "46a56ce0-fd20-430a-d9b6-9564f4c25141"
   },
   "outputs": [
    {
     "data": {
      "text/plain": [
       "(0.9999075272794525, 21628)"
      ]
     },
     "execution_count": 14,
     "metadata": {},
     "output_type": "execute_result"
    }
   ],
   "source": [
    "corrects = [oxidized_newmm(txt) == py_newmm(txt) for txt in datasets['train']['texts']]\n",
    "np.mean(corrects), len(corrects)"
   ]
  },
  {
   "cell_type": "markdown",
   "metadata": {
    "id": "Tyc_cHaf66Fo"
   },
   "source": [
    "### Average Run Time Across All Examples"
   ]
  },
  {
   "cell_type": "code",
   "execution_count": 15,
   "metadata": {
    "id": "uYeUydsQ66Fo",
    "outputId": "b20ed761-fa2b-42b8-8a6c-ff3a1d2dc6b3"
   },
   "outputs": [
    {
     "data": {
      "text/plain": [
       "(0.00019629587632396733, 0.00010808309654177988, 1.8161570366193989)"
      ]
     },
     "execution_count": 15,
     "metadata": {},
     "output_type": "execute_result"
    }
   ],
   "source": [
    "py_newmms = [time_func(py_newmm, txt) for txt in datasets['train']['texts']]\n",
    "oxidized_newmms = [time_func(oxidized_newmm, txt) for txt in datasets['train']['texts']]\n",
    "\n",
    "# oxidized newmm is nearly 2 times faster than python newmm, on average\n",
    "np.mean(py_newmms), np.mean(oxidized_newmms), np.mean(py_newmms) / np.mean(oxidized_newmms)"
   ]
  },
  {
   "cell_type": "code",
   "execution_count": 16,
   "metadata": {
    "id": "8hRoDxm966Fp",
    "outputId": "c4e8c0fd-97ca-4e3a-ee63-1281f84bb1d9"
   },
   "outputs": [
    {
     "data": {
      "text/plain": [
       "(array([1.5343e+04, 3.2270e+03, 1.2610e+03, 7.7200e+02, 3.3000e+02,\n",
       "        2.2600e+02, 1.1900e+02, 7.8000e+01, 6.1000e+01, 5.3000e+01,\n",
       "        3.4000e+01, 2.8000e+01, 1.2000e+01, 1.0000e+01, 1.1000e+01,\n",
       "        9.0000e+00, 1.0000e+01, 1.2000e+01, 9.0000e+00, 4.0000e+00,\n",
       "        5.0000e+00, 4.0000e+00, 5.0000e+00, 1.0000e+00, 0.0000e+00,\n",
       "        3.0000e+00, 0.0000e+00, 0.0000e+00, 0.0000e+00, 1.0000e+00]),\n",
       " array([4.76837158e-06, 1.00572904e-04, 1.96377436e-04, 2.92181969e-04,\n",
       "        3.87986501e-04, 4.83791033e-04, 5.79595566e-04, 6.75400098e-04,\n",
       "        7.71204631e-04, 8.67009163e-04, 9.62813695e-04, 1.05861823e-03,\n",
       "        1.15442276e-03, 1.25022729e-03, 1.34603182e-03, 1.44183636e-03,\n",
       "        1.53764089e-03, 1.63344542e-03, 1.72924995e-03, 1.82505449e-03,\n",
       "        1.92085902e-03, 2.01666355e-03, 2.11246808e-03, 2.20827262e-03,\n",
       "        2.30407715e-03, 2.39988168e-03, 2.49568621e-03, 2.59149075e-03,\n",
       "        2.68729528e-03, 2.78309981e-03, 2.87890434e-03]),\n",
       " <BarContainer object of 30 artists>)"
      ]
     },
     "execution_count": 16,
     "metadata": {},
     "output_type": "execute_result"
    },
    {
     "data": {
      "image/png": "[encoded data removed]",
      "text/plain": [
       "<Figure size 432x288 with 1 Axes>"
      ]
     },
     "metadata": {
      "needs_background": "light"
     },
     "output_type": "display_data"
    }
   ],
   "source": [
    "# look at distribution; oxidized newmm also consistently performs better\n",
    "plt.hist(py_newmms, bins=30, alpha=0.5)\n",
    "plt.hist(oxidized_newmms, bins=30, alpha=0.5)"
   ]
  },
  {
   "cell_type": "markdown",
   "metadata": {
    "id": "EMZZ8SgY66Fp"
   },
   "source": [
    "## Run Time as Sequence Length Grows"
   ]
  },
  {
   "cell_type": "code",
   "execution_count": 17,
   "metadata": {
    "id": "3P_z59rS66Fp",
    "outputId": "5951dd75-388c-4f9e-a1df-f0e98f663ec3"
   },
   "outputs": [
    {
     "data": {
      "text/plain": [
       "('เปิดศักราชใหม่! นายกฯ แถลงข่าวก่อนการแข่งขัน', 10)"
      ]
     },
     "execution_count": 17,
     "metadata": {},
     "output_type": "execute_result"
    }
   ],
   "source": [
    "txt = datasets['train']['texts'][1]\n",
    "txt2 = ''.join(oxidized_newmm(txt)[:10])\n",
    "txt2, len(oxidized_newmm(txt2))"
   ]
  },
  {
   "cell_type": "code",
   "execution_count": 18,
   "metadata": {
    "colab": {
     "referenced_widgets": [
      "0689a5cf946049a0ac98bdf9e1353810",
      "2b481450056f4c1883c163bf066110a3"
     ]
    },
    "id": "FEmDkPHL66Fq",
    "outputId": "2b2c96ab-7044-423b-9b40-e06ca186a213"
   },
   "outputs": [
    {
     "data": {
      "application/vnd.jupyter.widget-view+json": {
       "model_id": "422dcd3924314206b11d7cf57fc81c84",
       "version_major": 2,
       "version_minor": 0
      },
      "text/plain": [
       "HBox(children=(FloatProgress(value=0.0, max=5.0), HTML(value='')))"
      ]
     },
     "metadata": {},
     "output_type": "display_data"
    },
    {
     "name": "stdout",
     "output_type": "stream",
     "text": [
      "\n"
     ]
    },
    {
     "data": {
      "application/vnd.jupyter.widget-view+json": {
       "model_id": "7743e037486e4d11ba020835e3db335e",
       "version_major": 2,
       "version_minor": 0
      },
      "text/plain": [
       "HBox(children=(FloatProgress(value=0.0, max=5.0), HTML(value='')))"
      ]
     },
     "metadata": {},
     "output_type": "display_data"
    },
    {
     "name": "stdout",
     "output_type": "stream",
     "text": [
      "\n"
     ]
    }
   ],
   "source": [
    "py_newmms = [time_func(py_newmm, txt2*i) for i in tqdm([10**j for j in range(5)])]\n",
    "oxidized_newmms = [time_func(oxidized_newmm, txt2*i) for i in tqdm([10**j for j in range(5)])]"
   ]
  },
  {
   "cell_type": "markdown",
   "metadata": {},
   "source": [
    "Performance starts really deviate when sequence length > 10^3 tokens and above.\n",
    "\n",
    "python newmm is dashed line."
   ]
  },
  {
   "cell_type": "code",
   "execution_count": 19,
   "metadata": {
    "id": "sT8GL0oX66Fr",
    "outputId": "6bb4acfd-4721-47cb-d8ff-943c67a4cedf"
   },
   "outputs": [
    {
     "data": {
      "text/plain": [
       "[<matplotlib.lines.Line2D at 0x13343f4f0>]"
      ]
     },
     "execution_count": 19,
     "metadata": {},
     "output_type": "execute_result"
    },
    {
     "data": {
      "image/png": "[encoded data removed]",
      "text/plain": [
       "<Figure size 432x288 with 1 Axes>"
      ]
     },
     "metadata": {
      "needs_background": "light"
     },
     "output_type": "display_data"
    }
   ],
   "source": [
    "positions = [i for i in range(5)]\n",
    "labels = [f'10^{i+1}' for i in range(5)]\n",
    "plt.xticks(positions, labels)\n",
    "plt.plot(py_newmms, linestyle='dashed')\n",
    "plt.plot(oxidized_newmms)"
   ]
  },
  {
   "cell_type": "code",
   "execution_count": 20,
   "metadata": {
    "id": "5YU5aiNs66Fs"
   },
   "outputs": [
    {
     "data": {
      "text/plain": [
       "[<matplotlib.lines.Line2D at 0x13319f7c0>]"
      ]
     },
     "execution_count": 20,
     "metadata": {},
     "output_type": "execute_result"
    },
    {
     "data": {
      "image/png": "[encoded data removed]",
      "text/plain": [
       "<Figure size 432x288 with 1 Axes>"
      ]
     },
     "metadata": {
      "needs_background": "light"
     },
     "output_type": "display_data"
    }
   ],
   "source": [
    "# zooming in on inflexion point\n",
    "positions = [i for i in range(4)]\n",
    "labels = [f'10^{i+1}' for i in range(4)]\n",
    "plt.xticks(positions, labels)\n",
    "plt.plot(py_newmms[:-1], linestyle='dashed')\n",
    "plt.plot(oxidized_newmms[:-1])"
   ]
  },
  {
   "cell_type": "code",
   "execution_count": null,
   "metadata": {},
   "outputs": [],
   "source": []
  }
 ],
 "metadata": {
  "colab": {
   "name": "oxidized_segment.ipynb",
   "provenance": []
  },
  "kernelspec": {
   "display_name": "Python 3",
   "language": "python",
   "name": "python3"
  },
  "language_info": {
   "codemirror_mode": {
    "name": "ipython",
    "version": 3
   },
   "file_extension": ".py",
   "mimetype": "text/x-python",
   "name": "python",
   "nbconvert_exporter": "python",
   "pygments_lexer": "ipython3",
   "version": "3.9.5"
  }
 },
 "nbformat": 4,
 "nbformat_minor": 1
}
