{
 "cells": [
  {
   "cell_type": "markdown",
   "source": [
    "# Benchmark `nlpo3.segment`"
   ],
   "metadata": {
    "id": "6PCaAU1y66FE"
   }
  },
  {
   "cell_type": "markdown",
   "source": [
    "Benchmarks nlpO3 (Rust) `nlpo3.segment` (unsafe) against PyThaiNLP (Python) `newmm.segment` (unsafe) using the same dictionary.\n",
    "\n",
    "https://github.com/PyThaiNLP/nlpo3/"
   ],
   "metadata": {}
  },
  {
   "cell_type": "code",
   "execution_count": 1,
   "source": [
    "import time\n",
    "\n",
    "import matplotlib.pyplot as plt\n",
    "import numpy as np\n",
    "from tqdm.auto import tqdm\n",
    "\n",
    "\n",
    "def time_func(func, arg):\n",
    "    start_time = time.perf_counter_ns()\n",
    "    func(arg)\n",
    "    return time.perf_counter_ns() - start_time"
   ],
   "outputs": [],
   "metadata": {
    "id": "iAlScT9d66FX",
    "outputId": "fe7a569c-f384-4e95-cbc3-3d412a99fc74"
   }
  },
  {
   "cell_type": "markdown",
   "source": [
    "## Load Custom Dictionary to the Tokenizers\n",
    "\n",
    "Both `o3_newmm()` and `py_newmm()` will use the same word list (`words_th.txt`)"
   ],
   "metadata": {
    "id": "Ssp84MKA66Fb"
   }
  },
  {
   "cell_type": "code",
   "execution_count": 2,
   "source": [
    "DICT_FILE = \"../../words_th.txt\""
   ],
   "outputs": [],
   "metadata": {
    "id": "XHh2LIdG66Fd",
    "outputId": "f1f8c12d-fd61-40f2-d31f-98c99cd120ae"
   }
  },
  {
   "cell_type": "code",
   "execution_count": 3,
   "source": [
    "from pythainlp.tokenize.newmm import segment as py_segment\n",
    "from pythainlp.util import dict_trie\n",
    "\n",
    "trie = dict_trie(dict_source=DICT_FILE)\n",
    "\n",
    "def py_newmm(txt, safe_mode=False):\n",
    "    return py_segment(txt, safe_mode=safe_mode, custom_dict=trie)"
   ],
   "outputs": [],
   "metadata": {}
  },
  {
   "cell_type": "code",
   "execution_count": 4,
   "source": [
    "from nlpo3 import load_dict\n",
    "from nlpo3 import segment as o3_segment\n",
    "\n",
    "load_dict(DICT_FILE, \"test_dict\")  # create \"test_dict\" dictionary\n",
    "\n",
    "def o3_newmm(txt, safe=False, parallel=False):\n",
    "    return o3_segment(txt, dict_name=\"test_dict\", safe=safe, parallel=parallel)"
   ],
   "outputs": [
    {
     "output_type": "stream",
     "name": "stdout",
     "text": [
      "Successful: dictionary name test_dict from file ../../words_th.txt has been successfully loaded\n"
     ]
    }
   ],
   "metadata": {}
  },
  {
   "cell_type": "markdown",
   "source": [
    "## Load Test data"
   ],
   "metadata": {}
  },
  {
   "cell_type": "code",
   "execution_count": 5,
   "source": [
    "from datasets import load_dataset\n",
    "\n",
    "datasets = load_dataset('wisesight_sentiment')\n",
    "datasets"
   ],
   "outputs": [
    {
     "output_type": "stream",
     "name": "stderr",
     "text": [
      "Reusing dataset wisesight_sentiment (/Users/test/.cache/huggingface/datasets/wisesight_sentiment/wisesight_sentiment/1.0.0/fc2b1bdfe79571b2e281e4afdb5aac069cf9270bf0f85694239be672a4191969)\n"
     ]
    },
    {
     "output_type": "execute_result",
     "data": {
      "text/plain": [
       "DatasetDict({\n",
       "    train: Dataset({\n",
       "        features: ['texts', 'category'],\n",
       "        num_rows: 21628\n",
       "    })\n",
       "    validation: Dataset({\n",
       "        features: ['texts', 'category'],\n",
       "        num_rows: 2404\n",
       "    })\n",
       "    test: Dataset({\n",
       "        features: ['texts', 'category'],\n",
       "        num_rows: 2671\n",
       "    })\n",
       "})"
      ]
     },
     "metadata": {},
     "execution_count": 5
    }
   ],
   "metadata": {}
  },
  {
   "cell_type": "code",
   "execution_count": 6,
   "source": [
    "txt = datasets['train']['texts'][0]\n",
    "txt"
   ],
   "outputs": [
    {
     "output_type": "execute_result",
     "data": {
      "text/plain": [
       "'ไปจองมาแล้วนาจา Mitsubishi Attrage ได้หลังสงกรานต์เลย รอขับอยู่นาจา กระทัดรัด เหมาะกับสาวๆขับรถคนเดียวแบบเรา ราคาสบายกระเป๋า ประหยัดน้ำมัน วิ่งไกลแค่ไหนหายห่วงค่ะ'"
      ]
     },
     "metadata": {},
     "execution_count": 6
    }
   ],
   "metadata": {
    "id": "GCtUUACp66Fc",
    "outputId": "fe1c7236-28b3-4ee4-a0e4-81312e7762fb"
   }
  },
  {
   "cell_type": "code",
   "execution_count": 7,
   "source": [
    "py_newmm(txt)[:10]"
   ],
   "outputs": [
    {
     "output_type": "execute_result",
     "data": {
      "text/plain": [
       "['ไป', 'จอง', 'มา', 'แล้', 'วนา', 'จา', ' ', 'Mitsubishi', ' ', 'Attrage']"
      ]
     },
     "metadata": {},
     "execution_count": 7
    }
   ],
   "metadata": {}
  },
  {
   "cell_type": "code",
   "execution_count": 8,
   "source": [
    "o3_newmm(txt)[:10]"
   ],
   "outputs": [
    {
     "output_type": "execute_result",
     "data": {
      "text/plain": [
       "['ไป', 'จอง', 'มา', 'แล้', 'วนา', 'จา', ' ', 'Mitsubishi', ' ', 'Attrage']"
      ]
     },
     "metadata": {},
     "execution_count": 8
    }
   ],
   "metadata": {}
  },
  {
   "cell_type": "markdown",
   "source": [
    "## One Example"
   ],
   "metadata": {
    "id": "Qyrh-uny66Fh"
   }
  },
  {
   "cell_type": "markdown",
   "source": [
    "### Average Run Time for One Example"
   ],
   "metadata": {
    "id": "9YqrA2Pb66Fj"
   }
  },
  {
   "cell_type": "code",
   "execution_count": 9,
   "source": [
    "%timeit py_newmm(txt)"
   ],
   "outputs": [
    {
     "output_type": "stream",
     "name": "stdout",
     "text": [
      "345 µs ± 15.7 µs per loop (mean ± std. dev. of 7 runs, 1000 loops each)\n"
     ]
    }
   ],
   "metadata": {
    "id": "Iz58c6Ff66Fj",
    "outputId": "0d45dec2-bece-494e-8725-31ffdc97e1de"
   }
  },
  {
   "cell_type": "code",
   "execution_count": 10,
   "source": [
    "%timeit o3_newmm(txt)"
   ],
   "outputs": [
    {
     "output_type": "stream",
     "name": "stdout",
     "text": [
      "83.8 µs ± 9.53 µs per loop (mean ± std. dev. of 7 runs, 10000 loops each)\n"
     ]
    }
   ],
   "metadata": {
    "id": "8jvijfPJ66Fl",
    "outputId": "64a89f5b-468e-4af5-da35-6c938019e021"
   }
  },
  {
   "cell_type": "code",
   "execution_count": 11,
   "source": [
    "%timeit o3_newmm(txt, parallel=True)"
   ],
   "outputs": [
    {
     "output_type": "stream",
     "name": "stdout",
     "text": [
      "187 µs ± 13.2 µs per loop (mean ± std. dev. of 7 runs, 1000 loops each)\n"
     ]
    }
   ],
   "metadata": {
    "id": "lAdLgqdu66Fm",
    "outputId": "42e39b71-9331-4311-a401-61fa68c21fde"
   }
  },
  {
   "cell_type": "code",
   "execution_count": 12,
   "source": [
    "%timeit py_newmm(txt, safe_mode=True)"
   ],
   "outputs": [
    {
     "output_type": "stream",
     "name": "stdout",
     "text": [
      "380 µs ± 45.3 µs per loop (mean ± std. dev. of 7 runs, 1000 loops each)\n"
     ]
    }
   ],
   "metadata": {}
  },
  {
   "cell_type": "code",
   "execution_count": 13,
   "source": [
    "%timeit o3_newmm(txt, safe=True)"
   ],
   "outputs": [
    {
     "output_type": "stream",
     "name": "stdout",
     "text": [
      "80.7 µs ± 3.81 µs per loop (mean ± std. dev. of 7 runs, 10000 loops each)\n"
     ]
    }
   ],
   "metadata": {}
  },
  {
   "cell_type": "markdown",
   "source": [
    "## All Examples"
   ],
   "metadata": {
    "id": "L0lWERZk66Fm"
   }
  },
  {
   "cell_type": "markdown",
   "source": [
    "### Check If Results Match for All Examples"
   ],
   "metadata": {
    "id": "GXmhzISZ66Fn"
   }
  },
  {
   "cell_type": "code",
   "execution_count": 14,
   "source": [
    "corrects = [o3_newmm(txt) == py_newmm(txt) for txt in datasets['train']['texts']]\n",
    "np.mean(corrects), len(corrects)"
   ],
   "outputs": [],
   "metadata": {
    "id": "ZY9Mosag66Fn",
    "outputId": "46a56ce0-fd20-430a-d9b6-9564f4c25141"
   }
  },
  {
   "cell_type": "markdown",
   "source": [
    "### Average Run Time Across All Examples"
   ],
   "metadata": {
    "id": "Tyc_cHaf66Fo"
   }
  },
  {
   "cell_type": "code",
   "execution_count": null,
   "source": [
    "py_newmms = [time_func(py_newmm, txt) for txt in datasets['train']['texts']]\n",
    "o3_newmms = [time_func(o3_newmm, txt) for txt in datasets['train']['texts']]\n",
    "\n",
    "# o3 newmm is over 2x faster than python newmm, on average\n",
    "np.mean(py_newmms), np.mean(o3_newmms), np.mean(py_newmms) / np.mean(o3_newmms)"
   ],
   "outputs": [],
   "metadata": {
    "id": "uYeUydsQ66Fo",
    "outputId": "b20ed761-fa2b-42b8-8a6c-ff3a1d2dc6b3"
   }
  },
  {
   "cell_type": "code",
   "execution_count": null,
   "source": [
    "# look at distribution; o3 newmm also consistently performs better\n",
    "plt.hist(py_newmms, bins=30, alpha=0.5)\n",
    "plt.hist(o3_newmms, bins=30, alpha=0.5)"
   ],
   "outputs": [],
   "metadata": {
    "id": "8hRoDxm966Fp",
    "outputId": "c4e8c0fd-97ca-4e3a-ee63-1281f84bb1d9"
   }
  },
  {
   "cell_type": "markdown",
   "source": [
    "## Run Time as Sequence Length Grows"
   ],
   "metadata": {
    "id": "EMZZ8SgY66Fp"
   }
  },
  {
   "cell_type": "code",
   "execution_count": null,
   "source": [
    "txt = datasets['train']['texts'][1]\n",
    "txt2 = ''.join(o3_newmm(txt)[:10])\n",
    "txt2, len(o3_newmm(txt2))"
   ],
   "outputs": [],
   "metadata": {
    "id": "3P_z59rS66Fp",
    "outputId": "5951dd75-388c-4f9e-a1df-f0e98f663ec3"
   }
  },
  {
   "cell_type": "code",
   "execution_count": null,
   "source": [
    "py_newmms = [time_func(py_newmm, txt2*i) for i in tqdm([10**j for j in range(5)])]\n",
    "o3_newmms = [time_func(o3_newmm, txt2*i) for i in tqdm([10**j for j in range(5)])]"
   ],
   "outputs": [],
   "metadata": {
    "colab": {
     "referenced_widgets": [
      "0689a5cf946049a0ac98bdf9e1353810",
      "2b481450056f4c1883c163bf066110a3"
     ]
    },
    "id": "FEmDkPHL66Fq",
    "outputId": "2b2c96ab-7044-423b-9b40-e06ca186a213"
   }
  },
  {
   "cell_type": "markdown",
   "source": [
    "Performance starts really deviate when sequence length > 10^3 tokens and above.\n",
    "\n",
    "python newmm is dashed line."
   ],
   "metadata": {}
  },
  {
   "cell_type": "code",
   "execution_count": null,
   "source": [
    "positions = [i for i in range(5)]\n",
    "labels = [f'10^{i+1}' for i in range(5)]\n",
    "plt.xticks(positions, labels)\n",
    "plt.plot(py_newmms, linestyle='dashed')\n",
    "plt.plot(o3_newmms)"
   ],
   "outputs": [],
   "metadata": {
    "id": "sT8GL0oX66Fr",
    "outputId": "6bb4acfd-4721-47cb-d8ff-943c67a4cedf"
   }
  },
  {
   "cell_type": "code",
   "execution_count": null,
   "source": [
    "# zooming in on inflexion point\n",
    "positions = [i for i in range(4)]\n",
    "labels = [f'10^{i+1}' for i in range(4)]\n",
    "plt.xticks(positions, labels)\n",
    "plt.plot(py_newmms[:-1], linestyle='dashed')\n",
    "plt.plot(o3_newmms[:-1])"
   ],
   "outputs": [],
   "metadata": {
    "id": "5YU5aiNs66Fs"
   }
  },
  {
   "cell_type": "code",
   "execution_count": null,
   "source": [],
   "outputs": [],
   "metadata": {}
  }
 ],
 "metadata": {
  "colab": {
   "name": "oxidized_segment.ipynb",
   "provenance": []
  },
  "kernelspec": {
   "name": "python3",
   "display_name": "Python 3.9.6 64-bit ('3.9.6')"
  },
  "language_info": {
   "codemirror_mode": {
    "name": "ipython",
    "version": 3
   },
   "file_extension": ".py",
   "mimetype": "text/x-python",
   "name": "python",
   "nbconvert_exporter": "python",
   "pygments_lexer": "ipython3",
   "version": "3.9.6"
  },
  "interpreter": {
   "hash": "a14e36384937f4cd2b884b3a26e89421f14fe79660135b8adf66e600478fad4c"
  }
 },
 "nbformat": 4,
 "nbformat_minor": 1
}
