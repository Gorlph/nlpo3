{
 "cells": [
  {
   "cell_type": "markdown",
   "metadata": {
    "id": "6PCaAU1y66FE"
   },
   "source": [
    "# Benchmark `nlpo3.segment`"
   ]
  },
  {
   "cell_type": "markdown",
   "metadata": {},
   "source": [
    "Benchmarks nlpO3 (Rust) `nlpo3.segment` (unsafe) against PyThaiNLP (Python) `newmm.segment` (unsafe) using the same dictionary.\n",
    "\n",
    "https://github.com/PyThaiNLP/nlpo3/"
   ]
  },
  {
   "cell_type": "code",
   "execution_count": 1,
   "metadata": {
    "id": "iAlScT9d66FX",
    "outputId": "fe7a569c-f384-4e95-cbc3-3d412a99fc74"
   },
   "outputs": [],
   "source": [
    "import time\n",
    "\n",
    "import matplotlib.pyplot as plt\n",
    "import numpy as np\n",
    "from tqdm.auto import tqdm\n",
    "\n",
    "\n",
    "def time_func(func, arg):\n",
    "    start_time = time.time()\n",
    "    func(arg)\n",
    "    return time.time() - start_time"
   ]
  },
  {
   "cell_type": "markdown",
   "metadata": {
    "id": "Ssp84MKA66Fb"
   },
   "source": [
    "## Load Custom Dictionary to the Tokenizers\n",
    "\n",
    "Both `o3_newmm()` and `py_newmm()` will use the same word list (`words_th.txt`)"
   ]
  },
  {
   "cell_type": "code",
   "execution_count": 2,
   "metadata": {
    "id": "XHh2LIdG66Fd",
    "outputId": "f1f8c12d-fd61-40f2-d31f-98c99cd120ae"
   },
   "outputs": [],
   "source": [
    "DICT_FILE = \"../../words_th.txt\""
   ]
  },
  {
   "cell_type": "code",
   "execution_count": 3,
   "metadata": {},
   "outputs": [],
   "source": [
    "from pythainlp.tokenize.newmm import segment as py_segment\n",
    "from pythainlp.util import dict_trie\n",
    "\n",
    "trie = dict_trie(dict_source=DICT_FILE)\n",
    "\n",
    "def py_newmm(txt, safe_mode=False):\n",
    "    return py_segment(txt, safe_mode=safe_mode, custom_dict=trie)"
   ]
  },
  {
   "cell_type": "code",
   "execution_count": 4,
   "metadata": {},
   "outputs": [
    {
     "name": "stdout",
     "output_type": "stream",
     "text": [
      "Successful: dictionary name test_dict from file ../../words_th.txt has been successfully loaded\n"
     ]
    }
   ],
   "source": [
    "from nlpo3 import load_dict\n",
    "from nlpo3 import segment as o3_segment\n",
    "\n",
    "load_dict(DICT_FILE, \"test_dict\")  # create \"test_dict\" dictionary\n",
    "\n",
    "def o3_newmm(txt, safe=False, parallel=False):\n",
    "    return o3_segment(txt, dict_name=\"test_dict\", safe=safe, parallel=parallel)"
   ]
  },
  {
   "cell_type": "markdown",
   "metadata": {},
   "source": [
    "## Load Test data"
   ]
  },
  {
   "cell_type": "code",
   "execution_count": 5,
   "metadata": {},
   "outputs": [
    {
     "name": "stderr",
     "output_type": "stream",
     "text": [
      "Reusing dataset wisesight_sentiment (/Users/test/.cache/huggingface/datasets/wisesight_sentiment/wisesight_sentiment/1.0.0/fc2b1bdfe79571b2e281e4afdb5aac069cf9270bf0f85694239be672a4191969)\n"
     ]
    },
    {
     "data": {
      "text/plain": [
       "DatasetDict({\n",
       "    train: Dataset({\n",
       "        features: ['category', 'texts'],\n",
       "        num_rows: 21628\n",
       "    })\n",
       "    validation: Dataset({\n",
       "        features: ['category', 'texts'],\n",
       "        num_rows: 2404\n",
       "    })\n",
       "    test: Dataset({\n",
       "        features: ['category', 'texts'],\n",
       "        num_rows: 2671\n",
       "    })\n",
       "})"
      ]
     },
     "execution_count": 5,
     "metadata": {},
     "output_type": "execute_result"
    }
   ],
   "source": [
    "from datasets import load_dataset\n",
    "\n",
    "datasets = load_dataset('wisesight_sentiment')\n",
    "datasets"
   ]
  },
  {
   "cell_type": "code",
   "execution_count": 6,
   "metadata": {
    "id": "GCtUUACp66Fc",
    "outputId": "fe1c7236-28b3-4ee4-a0e4-81312e7762fb"
   },
   "outputs": [
    {
     "data": {
      "text/plain": [
       "'ไปจองมาแล้วนาจา Mitsubishi Attrage ได้หลังสงกรานต์เลย รอขับอยู่นาจา กระทัดรัด เหมาะกับสาวๆขับรถคนเดียวแบบเรา ราคาสบายกระเป๋า ประหยัดน้ำมัน วิ่งไกลแค่ไหนหายห่วงค่ะ'"
      ]
     },
     "execution_count": 6,
     "metadata": {},
     "output_type": "execute_result"
    }
   ],
   "source": [
    "txt = datasets['train']['texts'][0]\n",
    "txt"
   ]
  },
  {
   "cell_type": "code",
   "execution_count": 7,
   "metadata": {},
   "outputs": [
    {
     "data": {
      "text/plain": [
       "['ไป', 'จอง', 'มา', 'แล้', 'วนา', 'จา', ' ', 'Mitsubishi', ' ', 'Attrage']"
      ]
     },
     "execution_count": 7,
     "metadata": {},
     "output_type": "execute_result"
    }
   ],
   "source": [
    "py_newmm(txt)[:10]"
   ]
  },
  {
   "cell_type": "code",
   "execution_count": 8,
   "metadata": {},
   "outputs": [
    {
     "data": {
      "text/plain": [
       "['ไป', 'จอง', 'มา', 'แล้', 'วนา', 'จา', ' ', 'Mitsubishi', ' ', 'Attrage']"
      ]
     },
     "execution_count": 8,
     "metadata": {},
     "output_type": "execute_result"
    }
   ],
   "source": [
    "o3_newmm(txt)[:10]"
   ]
  },
  {
   "cell_type": "markdown",
   "metadata": {
    "id": "Qyrh-uny66Fh"
   },
   "source": [
    "## One Example"
   ]
  },
  {
   "cell_type": "markdown",
   "metadata": {
    "id": "9YqrA2Pb66Fj"
   },
   "source": [
    "### Average Run Time for One Example"
   ]
  },
  {
   "cell_type": "code",
   "execution_count": 9,
   "metadata": {
    "id": "Iz58c6Ff66Fj",
    "outputId": "0d45dec2-bece-494e-8725-31ffdc97e1de"
   },
   "outputs": [
    {
     "name": "stdout",
     "output_type": "stream",
     "text": [
      "313 µs ± 7.57 µs per loop (mean ± std. dev. of 7 runs, 1000 loops each)\n"
     ]
    }
   ],
   "source": [
    "%timeit py_newmm(txt)"
   ]
  },
  {
   "cell_type": "code",
   "execution_count": 10,
   "metadata": {
    "id": "8jvijfPJ66Fl",
    "outputId": "64a89f5b-468e-4af5-da35-6c938019e021"
   },
   "outputs": [
    {
     "name": "stdout",
     "output_type": "stream",
     "text": [
      "130 µs ± 5.65 µs per loop (mean ± std. dev. of 7 runs, 10000 loops each)\n"
     ]
    }
   ],
   "source": [
    "%timeit o3_newmm(txt)"
   ]
  },
  {
   "cell_type": "code",
   "execution_count": 11,
   "metadata": {
    "id": "lAdLgqdu66Fm",
    "outputId": "42e39b71-9331-4311-a401-61fa68c21fde"
   },
   "outputs": [
    {
     "name": "stdout",
     "output_type": "stream",
     "text": [
      "219 µs ± 15.3 µs per loop (mean ± std. dev. of 7 runs, 1000 loops each)\n"
     ]
    }
   ],
   "source": [
    "%timeit o3_newmm(txt, parallel=True)"
   ]
  },
  {
   "cell_type": "code",
   "execution_count": 12,
   "metadata": {},
   "outputs": [
    {
     "name": "stdout",
     "output_type": "stream",
     "text": [
      "328 µs ± 10.7 µs per loop (mean ± std. dev. of 7 runs, 1000 loops each)\n"
     ]
    }
   ],
   "source": [
    "%timeit py_newmm(txt, safe_mode=True)"
   ]
  },
  {
   "cell_type": "code",
   "execution_count": 13,
   "metadata": {},
   "outputs": [
    {
     "name": "stdout",
     "output_type": "stream",
     "text": [
      "134 µs ± 2.02 µs per loop (mean ± std. dev. of 7 runs, 10000 loops each)\n"
     ]
    }
   ],
   "source": [
    "%timeit o3_newmm(txt, safe=True)"
   ]
  },
  {
   "cell_type": "markdown",
   "metadata": {
    "id": "L0lWERZk66Fm"
   },
   "source": [
    "## All Examples"
   ]
  },
  {
   "cell_type": "markdown",
   "metadata": {
    "id": "GXmhzISZ66Fn"
   },
   "source": [
    "### Check If Results Match for All Examples"
   ]
  },
  {
   "cell_type": "code",
   "execution_count": 14,
   "metadata": {
    "id": "ZY9Mosag66Fn",
    "outputId": "46a56ce0-fd20-430a-d9b6-9564f4c25141"
   },
   "outputs": [
    {
     "data": {
      "text/plain": [
       "(0.9999075272794525, 21628)"
      ]
     },
     "execution_count": 14,
     "metadata": {},
     "output_type": "execute_result"
    }
   ],
   "source": [
    "corrects = [o3_newmm(txt) == py_newmm(txt) for txt in datasets['train']['texts']]\n",
    "np.mean(corrects), len(corrects)"
   ]
  },
  {
   "cell_type": "markdown",
   "metadata": {
    "id": "Tyc_cHaf66Fo"
   },
   "source": [
    "### Average Run Time Across All Examples"
   ]
  },
  {
   "cell_type": "code",
   "execution_count": 15,
   "metadata": {
    "id": "uYeUydsQ66Fo",
    "outputId": "b20ed761-fa2b-42b8-8a6c-ff3a1d2dc6b3"
   },
   "outputs": [
    {
     "data": {
      "text/plain": [
       "(0.00020515467866150095, 8.277630043135611e-05, 2.4784229011494605)"
      ]
     },
     "execution_count": 15,
     "metadata": {},
     "output_type": "execute_result"
    }
   ],
   "source": [
    "py_newmms = [time_func(py_newmm, txt) for txt in datasets['train']['texts']]\n",
    "o3_newmms = [time_func(o3_newmm, txt) for txt in datasets['train']['texts']]\n",
    "\n",
    "# o3 newmm is over 2x faster than python newmm, on average\n",
    "np.mean(py_newmms), np.mean(o3_newmms), np.mean(py_newmms) / np.mean(o3_newmms)"
   ]
  },
  {
   "cell_type": "code",
   "execution_count": 16,
   "metadata": {
    "id": "8hRoDxm966Fp",
    "outputId": "c4e8c0fd-97ca-4e3a-ee63-1281f84bb1d9"
   },
   "outputs": [
    {
     "data": {
      "text/plain": [
       "(array([1.4746e+04, 3.4960e+03, 1.2480e+03, 8.9000e+02, 4.3000e+02,\n",
       "        2.3500e+02, 1.4700e+02, 1.0400e+02, 8.0000e+01, 4.7000e+01,\n",
       "        4.7000e+01, 3.7000e+01, 1.7000e+01, 1.8000e+01, 1.2000e+01,\n",
       "        1.1000e+01, 7.0000e+00, 8.0000e+00, 9.0000e+00, 5.0000e+00,\n",
       "        4.0000e+00, 1.2000e+01, 3.0000e+00, 3.0000e+00, 4.0000e+00,\n",
       "        2.0000e+00, 1.0000e+00, 2.0000e+00, 1.0000e+00, 2.0000e+00]),\n",
       " array([3.81469727e-06, 6.98169072e-05, 1.35819117e-04, 2.01821327e-04,\n",
       "        2.67823537e-04, 3.33825747e-04, 3.99827957e-04, 4.65830167e-04,\n",
       "        5.31832377e-04, 5.97834587e-04, 6.63836797e-04, 7.29839007e-04,\n",
       "        7.95841217e-04, 8.61843427e-04, 9.27845637e-04, 9.93847847e-04,\n",
       "        1.05985006e-03, 1.12585227e-03, 1.19185448e-03, 1.25785669e-03,\n",
       "        1.32385890e-03, 1.38986111e-03, 1.45586332e-03, 1.52186553e-03,\n",
       "        1.58786774e-03, 1.65386995e-03, 1.71987216e-03, 1.78587437e-03,\n",
       "        1.85187658e-03, 1.91787879e-03, 1.98388100e-03]),\n",
       " <BarContainer object of 30 artists>)"
      ]
     },
     "execution_count": 16,
     "metadata": {},
     "output_type": "execute_result"
    },
    {
     "data": {
      "image/png": "[encoded data removed]",
      "text/plain": [
       "<Figure size 432x288 with 1 Axes>"
      ]
     },
     "metadata": {
      "needs_background": "light"
     },
     "output_type": "display_data"
    }
   ],
   "source": [
    "# look at distribution; o3 newmm also consistently performs better\n",
    "plt.hist(py_newmms, bins=30, alpha=0.5)\n",
    "plt.hist(o3_newmms, bins=30, alpha=0.5)"
   ]
  },
  {
   "cell_type": "markdown",
   "metadata": {
    "id": "EMZZ8SgY66Fp"
   },
   "source": [
    "## Run Time as Sequence Length Grows"
   ]
  },
  {
   "cell_type": "code",
   "execution_count": 17,
   "metadata": {
    "id": "3P_z59rS66Fp",
    "outputId": "5951dd75-388c-4f9e-a1df-f0e98f663ec3"
   },
   "outputs": [
    {
     "data": {
      "text/plain": [
       "('เปิดศักราชใหม่! นายกฯ แถลงข่าวก่อนการแข่งขัน', 10)"
      ]
     },
     "execution_count": 17,
     "metadata": {},
     "output_type": "execute_result"
    }
   ],
   "source": [
    "txt = datasets['train']['texts'][1]\n",
    "txt2 = ''.join(o3_newmm(txt)[:10])\n",
    "txt2, len(o3_newmm(txt2))"
   ]
  },
  {
   "cell_type": "code",
   "execution_count": 18,
   "metadata": {
    "colab": {
     "referenced_widgets": [
      "0689a5cf946049a0ac98bdf9e1353810",
      "2b481450056f4c1883c163bf066110a3"
     ]
    },
    "id": "FEmDkPHL66Fq",
    "outputId": "2b2c96ab-7044-423b-9b40-e06ca186a213"
   },
   "outputs": [
    {
     "data": {
      "application/vnd.jupyter.widget-view+json": {
       "model_id": "ed20eb28ecbd4ad8a78b0bf67cdbb840",
       "version_major": 2,
       "version_minor": 0
      },
      "text/plain": [
       "HBox(children=(FloatProgress(value=0.0, max=5.0), HTML(value='')))"
      ]
     },
     "metadata": {},
     "output_type": "display_data"
    },
    {
     "name": "stdout",
     "output_type": "stream",
     "text": [
      "\n"
     ]
    },
    {
     "data": {
      "application/vnd.jupyter.widget-view+json": {
       "model_id": "95c4b518040b43118553bef5dad8526e",
       "version_major": 2,
       "version_minor": 0
      },
      "text/plain": [
       "HBox(children=(FloatProgress(value=0.0, max=5.0), HTML(value='')))"
      ]
     },
     "metadata": {},
     "output_type": "display_data"
    },
    {
     "name": "stdout",
     "output_type": "stream",
     "text": [
      "\n"
     ]
    }
   ],
   "source": [
    "py_newmms = [time_func(py_newmm, txt2*i) for i in tqdm([10**j for j in range(5)])]\n",
    "o3_newmms = [time_func(o3_newmm, txt2*i) for i in tqdm([10**j for j in range(5)])]"
   ]
  },
  {
   "cell_type": "markdown",
   "metadata": {},
   "source": [
    "Performance starts really deviate when sequence length > 10^3 tokens and above.\n",
    "\n",
    "python newmm is dashed line."
   ]
  },
  {
   "cell_type": "code",
   "execution_count": 19,
   "metadata": {
    "id": "sT8GL0oX66Fr",
    "outputId": "6bb4acfd-4721-47cb-d8ff-943c67a4cedf"
   },
   "outputs": [
    {
     "data": {
      "text/plain": [
       "[<matplotlib.lines.Line2D at 0x1317b8f10>]"
      ]
     },
     "execution_count": 19,
     "metadata": {},
     "output_type": "execute_result"
    },
    {
     "data": {
      "image/png": "[encoded data removed]",
      "text/plain": [
       "<Figure size 432x288 with 1 Axes>"
      ]
     },
     "metadata": {
      "needs_background": "light"
     },
     "output_type": "display_data"
    }
   ],
   "source": [
    "positions = [i for i in range(5)]\n",
    "labels = [f'10^{i+1}' for i in range(5)]\n",
    "plt.xticks(positions, labels)\n",
    "plt.plot(py_newmms, linestyle='dashed')\n",
    "plt.plot(o3_newmms)"
   ]
  },
  {
   "cell_type": "code",
   "execution_count": 20,
   "metadata": {
    "id": "5YU5aiNs66Fs"
   },
   "outputs": [
    {
     "data": {
      "text/plain": [
       "[<matplotlib.lines.Line2D at 0x13152f7c0>]"
      ]
     },
     "execution_count": 20,
     "metadata": {},
     "output_type": "execute_result"
    },
    {
     "data": {
      "image/png": "[encoded data removed]",
      "text/plain": [
       "<Figure size 432x288 with 1 Axes>"
      ]
     },
     "metadata": {
      "needs_background": "light"
     },
     "output_type": "display_data"
    }
   ],
   "source": [
    "# zooming in on inflexion point\n",
    "positions = [i for i in range(4)]\n",
    "labels = [f'10^{i+1}' for i in range(4)]\n",
    "plt.xticks(positions, labels)\n",
    "plt.plot(py_newmms[:-1], linestyle='dashed')\n",
    "plt.plot(o3_newmms[:-1])"
   ]
  },
  {
   "cell_type": "code",
   "execution_count": null,
   "metadata": {},
   "outputs": [],
   "source": []
  }
 ],
 "metadata": {
  "colab": {
   "name": "oxidized_segment.ipynb",
   "provenance": []
  },
  "kernelspec": {
   "display_name": "Python 3",
   "language": "python",
   "name": "python3"
  },
  "language_info": {
   "codemirror_mode": {
    "name": "ipython",
    "version": 3
   },
   "file_extension": ".py",
   "mimetype": "text/x-python",
   "name": "python",
   "nbconvert_exporter": "python",
   "pygments_lexer": "ipython3",
   "version": "3.9.6"
  }
 },
 "nbformat": 4,
 "nbformat_minor": 1
}
